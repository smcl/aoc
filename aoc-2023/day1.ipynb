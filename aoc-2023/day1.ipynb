{
 "cells": [
  {
   "cell_type": "code",
   "execution_count": 8,
   "metadata": {},
   "outputs": [
    {
     "name": "stdout",
     "output_type": "stream",
     "text": [
      "part one: 54338\n"
     ]
    }
   ],
   "source": [
    "from typing import Callable, Optional\n",
    "\n",
    "puzzle_input_str = open(\"./puzzle_input/day1.txt\").read()\n",
    "test_input_str = \"\"\"1abc2\n",
    "pqr3stu8vwx\n",
    "a1b2c3d4e5f\n",
    "treb7uchet\"\"\"\n",
    "\n",
    "\n",
    "def parse_line(line: str) -> int:\n",
    "    digits = [c for c in line if c.isdigit()]\n",
    "    return int(digits[0] + digits[-1])\n",
    "\n",
    "\n",
    "def part_one(input_str: str) -> int:\n",
    "    lines = input_str.splitlines()\n",
    "    return sum(parse_line(line) for line in lines)\n",
    "\n",
    "\n",
    "assert 142 == part_one(test_input_str)\n",
    "\n",
    "print(\"part one:\", part_one(puzzle_input_str))"
   ]
  },
  {
   "cell_type": "code",
   "execution_count": 16,
   "metadata": {},
   "outputs": [
    {
     "name": "stdout",
     "output_type": "stream",
     "text": [
      "part two: 53389\n"
     ]
    }
   ],
   "source": [
    "test_input_str2 = \"\"\"two1nine\n",
    "eightwothree\n",
    "abcone2threexyz\n",
    "xtwone3four\n",
    "4nineeightseven2\n",
    "zoneight234\n",
    "7pqrstsixteen\"\"\"\n",
    "\n",
    "\n",
    "def parse_digit(s: str) -> Optional[str]:\n",
    "    return s[0] if s[0].isdigit() else None\n",
    "\n",
    "\n",
    "def build_digit_parser(n: int, n_str) -> Callable[[str], Optional[str]]:\n",
    "    def parse_digit_string(s: str) -> Optional[str]:\n",
    "        return str(n) if s[: len(n_str)] == n_str else None\n",
    "\n",
    "    return parse_digit_string\n",
    "\n",
    "\n",
    "def build_digit_parsers() -> list[Callable[[str], Optional[str]]]:\n",
    "    digit_strings = [\n",
    "        \"zero\",\n",
    "        \"one\",\n",
    "        \"two\",\n",
    "        \"three\",\n",
    "        \"four\",\n",
    "        \"five\",\n",
    "        \"six\",\n",
    "        \"seven\",\n",
    "        \"eight\",\n",
    "        \"nine\",\n",
    "    ]\n",
    "\n",
    "    return [parse_digit] + [\n",
    "        build_digit_parser(n, n_str) for n, n_str in enumerate(digit_strings)\n",
    "    ]\n",
    "\n",
    "\n",
    "def parse_line_part2(\n",
    "    line: str, digit_parsers: list[Callable[[str], Optional[str]]]\n",
    ") -> int:\n",
    "    digits = []\n",
    "    while len(line) > 0:\n",
    "        for parse in digit_parsers:\n",
    "            digit = parse(line)\n",
    "            if digit is not None:\n",
    "                digits.append(digit)\n",
    "                break\n",
    "        line = line[1:]\n",
    "\n",
    "    return int(digits[0] + digits[-1])\n",
    "\n",
    "\n",
    "def part_two(input_str: str) -> int:\n",
    "    digit_parsers = build_digit_parsers()\n",
    "    lines = input_str.splitlines()\n",
    "    return sum(parse_line_part2(line, digit_parsers) for line in lines)\n",
    "\n",
    "\n",
    "assert 281 == part_two(test_input_str2)\n",
    "\n",
    "print(\"part two:\", part_two(puzzle_input_str))"
   ]
  }
 ],
 "metadata": {
  "kernelspec": {
   "display_name": ".venv",
   "language": "python",
   "name": "python3"
  },
  "language_info": {
   "codemirror_mode": {
    "name": "ipython",
    "version": 3
   },
   "file_extension": ".py",
   "mimetype": "text/x-python",
   "name": "python",
   "nbconvert_exporter": "python",
   "pygments_lexer": "ipython3",
   "version": "3.11.6"
  }
 },
 "nbformat": 4,
 "nbformat_minor": 2
}
