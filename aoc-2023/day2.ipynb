{
 "cells": [
  {
   "cell_type": "code",
   "execution_count": 10,
   "metadata": {},
   "outputs": [
    {
     "name": "stdout",
     "output_type": "stream",
     "text": [
      "part one: 2727\n"
     ]
    }
   ],
   "source": [
    "from collections import defaultdict\n",
    "\n",
    "test_input_str = \"\"\"Game 1: 3 blue, 4 red; 1 red, 2 green, 6 blue; 2 green\n",
    "Game 2: 1 blue, 2 green; 3 green, 4 blue, 1 red; 1 green, 1 blue\n",
    "Game 3: 8 green, 6 blue, 20 red; 5 blue, 4 red, 13 green; 5 green, 1 red\n",
    "Game 4: 1 green, 3 red, 6 blue; 3 green, 6 red; 3 green, 15 blue, 14 red\n",
    "Game 5: 6 red, 1 blue, 3 green; 2 blue, 1 red, 2 green\"\"\"\n",
    "\n",
    "puzzle_input_str = open(\"./puzzle_input/day2.txt\").read()\n",
    "\n",
    "\n",
    "def parse_game_id(game_id_str: str) -> int:\n",
    "    _, game_id = game_id_str.split(\" \")\n",
    "    return int(game_id)\n",
    "\n",
    "\n",
    "def parse_cube_sets(cube_sets_str: str) -> list[defaultdict[str, int]]:\n",
    "    cube_sets = []\n",
    "\n",
    "    for cube_set in cube_sets_str.split(\"; \"):\n",
    "        cube_strs = cube_set.split(\", \")\n",
    "        cubes = defaultdict(lambda: 0)\n",
    "\n",
    "        for cube in cube_strs:\n",
    "            quantity, color = cube.split(\" \")\n",
    "            cubes[color] = int(quantity)\n",
    "        cube_sets.append(cubes)\n",
    "\n",
    "    return cube_sets\n",
    "\n",
    "\n",
    "def parse_line(line: str) -> tuple[int, list[defaultdict[str, int]]]:\n",
    "    game_id_str, cube_sets_str = line.split(\":\")\n",
    "    return (parse_game_id(game_id_str.strip()), parse_cube_sets(cube_sets_str.strip()))\n",
    "\n",
    "\n",
    "def game_possible(\n",
    "    cube_sets: list[defaultdict[str, int]], allowed_cubes: dict[str, int]\n",
    ") -> bool:\n",
    "    for cube_set in cube_sets:\n",
    "        for color in cube_set:\n",
    "            if cube_set[color] > allowed_cubes[color]:\n",
    "                return False\n",
    "    return True\n",
    "\n",
    "\n",
    "def part_one(input_str: str) -> int:\n",
    "    allowed_cubes = {\"red\": 12, \"green\": 13, \"blue\": 14}\n",
    "    lines = input_str.splitlines()\n",
    "\n",
    "    total = 0\n",
    "    for line in lines:\n",
    "        game_id, cube_sets = parse_line(line)\n",
    "        if game_possible(cube_sets, allowed_cubes):\n",
    "            total += game_id\n",
    "\n",
    "    return total\n",
    "\n",
    "\n",
    "assert 8 == part_one(test_input_str)\n",
    "\n",
    "print(\"part one:\", part_one(puzzle_input_str))"
   ]
  },
  {
   "cell_type": "code",
   "execution_count": 5,
   "metadata": {},
   "outputs": [
    {
     "name": "stdout",
     "output_type": "stream",
     "text": [
      "part two: 56580\n"
     ]
    }
   ],
   "source": [
    "def minimum_required(cube_sets):\n",
    "    red = max(cube_set[\"red\"] for cube_set in cube_sets)\n",
    "    green = max(cube_set[\"green\"] for cube_set in cube_sets)\n",
    "    blue = max(cube_set[\"blue\"] for cube_set in cube_sets)\n",
    "    return red, green, blue\n",
    "\n",
    "\n",
    "def part_two(input_str: str) -> int:\n",
    "    total = 0\n",
    "    for line in input_str.splitlines():\n",
    "        game_id, cube_sets = parse_line(line)\n",
    "        red, green, blue = minimum_required(cube_sets)\n",
    "        total += red * green * blue\n",
    "\n",
    "    return total\n",
    "\n",
    "\n",
    "assert 2286 == part_two(test_input_str)\n",
    "\n",
    "\n",
    "print(\"part two:\", part_two(puzzle_input_str))"
   ]
  }
 ],
 "metadata": {
  "kernelspec": {
   "display_name": ".venv",
   "language": "python",
   "name": "python3"
  },
  "language_info": {
   "codemirror_mode": {
    "name": "ipython",
    "version": 3
   },
   "file_extension": ".py",
   "mimetype": "text/x-python",
   "name": "python",
   "nbconvert_exporter": "python",
   "pygments_lexer": "ipython3",
   "version": "3.11.6"
  }
 },
 "nbformat": 4,
 "nbformat_minor": 2
}
