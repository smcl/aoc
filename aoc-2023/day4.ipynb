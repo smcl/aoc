{
 "cells": [
  {
   "cell_type": "code",
   "execution_count": 48,
   "metadata": {},
   "outputs": [
    {
     "name": "stdout",
     "output_type": "stream",
     "text": [
      "part one: 22897\n"
     ]
    }
   ],
   "source": [
    "test_input_str = \"\"\"Card 1: 41 48 83 86 17 | 83 86  6 31 17  9 48 53\n",
    "Card 2: 13 32 20 16 61 | 61 30 68 82 17 32 24 19\n",
    "Card 3:  1 21 53 59 44 | 69 82 63 72 16 21 14  1\n",
    "Card 4: 41 92 73 84 69 | 59 84 76 51 58  5 54 83\n",
    "Card 5: 87 83 26 28 32 | 88 30 70 12 93 22 82 36\n",
    "Card 6: 31 18 13 56 72 | 74 77 10 23 35 67 36 11\"\"\"\n",
    "\n",
    "puzzle_input_str = open(\"./puzzle_input/day4.txt\").read()\n",
    "\n",
    "\n",
    "def parse_card_number(card_str):\n",
    "    _, card_number_str = card_str.split()\n",
    "    return int(card_number_str)\n",
    "\n",
    "\n",
    "def parse_cards(cards_str):\n",
    "    winning_cards_str, my_cards_str = cards_str.split(\" | \")\n",
    "    winning_cards_str = winning_cards_str\n",
    "    my_cards_str = my_cards_str.strip()\n",
    "    winning_cards = [int(c) for c in winning_cards_str.strip().split()]\n",
    "    my_cards = set(int(c) for c in my_cards_str.strip().split())\n",
    "    return winning_cards, my_cards\n",
    "\n",
    "\n",
    "def parse_line(line_str):\n",
    "    card_number_str, cards_str = line_str.split(\": \")\n",
    "\n",
    "    card_number = parse_card_number(card_number_str)\n",
    "    winning_cards, my_cards = parse_cards(cards_str)\n",
    "\n",
    "    return card_number, winning_cards, my_cards\n",
    "\n",
    "\n",
    "def calculate_points(winning_cards, my_cards):\n",
    "    score = 0\n",
    "    for my_card in my_cards:\n",
    "        if my_card in winning_cards:\n",
    "            score = score * 2 if score > 0 else 1\n",
    "    return score\n",
    "\n",
    "\n",
    "def part_one(input_str) -> int:\n",
    "    total = 0\n",
    "\n",
    "    for line in input_str.split(\"\\n\"):\n",
    "        card_number, winning_cards, my_cards = parse_line(line)\n",
    "        total += calculate_points(winning_cards, my_cards)\n",
    "\n",
    "    return total\n",
    "\n",
    "\n",
    "assert 13 == part_one(test_input_str)\n",
    "\n",
    "print(\"part one:\", part_one(puzzle_input_str))"
   ]
  },
  {
   "cell_type": "code",
   "execution_count": 49,
   "metadata": {},
   "outputs": [
    {
     "name": "stdout",
     "output_type": "stream",
     "text": [
      "part one: 5095824\n"
     ]
    }
   ],
   "source": [
    "def part_two(input_str) -> int:\n",
    "    total = 0\n",
    "    lines = input_str.split(\"\\n\")\n",
    "    card_queue = [1 for line in lines]\n",
    "\n",
    "    for i, line in enumerate(lines):\n",
    "        card_number, winning_cards, my_cards = parse_line(line)\n",
    "        my_winning_cards = [c for c in my_cards if c in winning_cards]\n",
    "        m = card_queue[i]\n",
    "        total += 1 + (len(my_winning_cards) * m)\n",
    "\n",
    "        for di in range(1, 1 + len(my_winning_cards)):\n",
    "            if i + di < len(card_queue):\n",
    "                card_queue[i + di] += m\n",
    "\n",
    "    return total\n",
    "\n",
    "\n",
    "assert 30 == part_two(test_input_str)\n",
    "\n",
    "print(\"part one:\", part_two(puzzle_input_str))"
   ]
  }
 ],
 "metadata": {
  "kernelspec": {
   "display_name": ".venv",
   "language": "python",
   "name": "python3"
  },
  "language_info": {
   "codemirror_mode": {
    "name": "ipython",
    "version": 3
   },
   "file_extension": ".py",
   "mimetype": "text/x-python",
   "name": "python",
   "nbconvert_exporter": "python",
   "pygments_lexer": "ipython3",
   "version": "3.11.6"
  }
 },
 "nbformat": 4,
 "nbformat_minor": 2
}
